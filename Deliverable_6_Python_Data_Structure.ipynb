{
  "nbformat": 4,
  "nbformat_minor": 0,
  "metadata": {
    "colab": {
      "provenance": [],
      "authorship_tag": "ABX9TyMqssrW2yhF4CchmF6WG0nd",
      "include_colab_link": true
    },
    "kernelspec": {
      "name": "python3",
      "display_name": "Python 3"
    },
    "language_info": {
      "name": "python"
    }
  },
  "cells": [
    {
      "cell_type": "markdown",
      "metadata": {
        "id": "view-in-github",
        "colab_type": "text"
      },
      "source": [
        "<a href=\"https://colab.research.google.com/github/Sarcia1/Deliverable_6_Python_Data_Structures/blob/main/Deliverable_6_Python_Data_Structure.ipynb\" target=\"_parent\"><img src=\"https://colab.research.google.com/assets/colab-badge.svg\" alt=\"Open In Colab\"/></a>"
      ]
    },
    {
      "cell_type": "code",
      "execution_count": null,
      "metadata": {
        "id": "QGE5kaS--QYe"
      },
      "outputs": [],
      "source": [
        "from IPython.core.completer import back_latex_name_matches\n",
        "num = int(input('Enter an integer value greater than 0: '))\n",
        "\n",
        "#Conditional Statement\n",
        "if num >= 0:\n",
        "  minimum = 0\n",
        "  for a in range(num + num):\n",
        "   if a % 2 == 0: #Even\n",
        "    num1 = a \n",
        "    \n",
        "\n",
        "  for b in range(num + num):\n",
        "    if b % 2 != 0: #Odd\n",
        "      num2 = b\n",
        "      \n",
        "  n1, n2 = 0, 1\n",
        "  count = 0\n",
        "  if num == 1: #Fibonacci\n",
        "    num3 = n1\n",
        "\n",
        "  else:\n",
        "    if num == 1:\n",
        "      num3 = n1\n",
        "    while count < num:\n",
        "      num3 = n1\n",
        "      nth = n1 + n2\n",
        "      n1 = n2\n",
        "      n2 = nth\n",
        "      count += 1    \n",
        "         \n",
        "else:\n",
        "  print('Integer value is not greater than 0, please try again!')\n",
        "\n",
        "x = (num1, num2, num3)\n",
        "print(x)\n",
        "import pandas as pd\n",
        "df1 = pd.DataFrame({'Even': [E], 'Odd': [O], 'Fibonacci': [F]}, index=[num])\n"
        "df1"
      ]
    },
    {
      "cell_type": "markdown",
      "source": [
        "1. ask the user to enter an iteger value greater than 0\n",
        "2. use a conditional statement to check the user's entry is greater than 0\n",
        "3. create a list for each sequence, and store the numbers of sequences. List should have the same length, n (user's entry)\n",
        "4. Display your results in a data frame format"
      ],
      "metadata": {
        "id": "RafMNZwP_1VG"
      }
    }
  ]
}
